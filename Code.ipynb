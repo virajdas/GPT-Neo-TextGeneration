{
  "nbformat": 4,
  "nbformat_minor": 0,
  "metadata": {
    "colab": {
      "provenance": [],
      "collapsed_sections": []
    },
    "kernelspec": {
      "name": "python3",
      "display_name": "Python 3"
    },
    "language_info": {
      "name": "python"
    }
  },
  "cells": [
    {
      "cell_type": "markdown",
      "source": [
        "#Using The Hugging Face GPT-Neo Model"
      ],
      "metadata": {
        "id": "SJwzAVPSPF7i"
      }
    },
    {
      "cell_type": "markdown",
      "source": [
        "A code created by Viraj Das utilizing the Hugging Face GPT-Neo NLP and text generative model by EleutherAI."
      ],
      "metadata": {
        "id": "GSurbKL4St5U"
      }
    },
    {
      "cell_type": "markdown",
      "source": [
        "##Installing & Importing Libraries/Models"
      ],
      "metadata": {
        "id": "v3vUJ5_gKjnx"
      }
    },
    {
      "cell_type": "code",
      "execution_count": null,
      "metadata": {
        "id": "M8Wnv5DhKMkM"
      },
      "outputs": [],
      "source": [
        "!pip install transformers\n",
        "!pip install torch torchvision torchaudio"
      ]
    },
    {
      "cell_type": "code",
      "source": [
        "import torch\n",
        "from transformers import pipeline"
      ],
      "metadata": {
        "id": "vS3PiSihKROs"
      },
      "execution_count": null,
      "outputs": []
    },
    {
      "cell_type": "code",
      "source": [
        "generate = pipeline('text-generation', model='EleutherAI/gpt-neo-1.3B')"
      ],
      "metadata": {
        "id": "mcgr-BbTKYHC"
      },
      "execution_count": null,
      "outputs": []
    },
    {
      "cell_type": "markdown",
      "source": [
        "##Generate The Text"
      ],
      "metadata": {
        "id": "Oq7PnBKOO4Xk"
      }
    },
    {
      "cell_type": "code",
      "source": [
        "#@title Generation Requirements\n",
        "prompt = \"Place text here!\" #@param {type:\"string\"}\n",
        "length = 100 #@param {type:\"slider\", min:0, max:100, step:1}\n",
        "temperature = 0.5 #@param {type:\"slider\", min:0, max:1, step:0.01}\n",
        "result = generate(prompt, max_length=length, do_sample=True, temperature=temperature)"
      ],
      "metadata": {
        "id": "Fu-a8XPIKU0H"
      },
      "execution_count": null,
      "outputs": []
    },
    {
      "cell_type": "code",
      "source": [
        "print(result[0]['generated_text'])"
      ],
      "metadata": {
        "id": "BJHhbWs8KhXv"
      },
      "execution_count": null,
      "outputs": []
    }
  ]
}